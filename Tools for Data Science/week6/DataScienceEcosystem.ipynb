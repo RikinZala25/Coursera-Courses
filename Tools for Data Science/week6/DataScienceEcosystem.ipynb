{
 "cells": [
  {
   "cell_type": "markdown",
   "id": "47e80953-7f31-4ac1-90a4-ed9f4366148d",
   "metadata": {},
   "source": [
    "# Data Science Tools and Ecosystem"
   ]
  },
  {
   "cell_type": "markdown",
   "id": "36db8a20-a47e-4363-ab3d-edc693be582e",
   "metadata": {},
   "source": [
    "In this notebook, Data Science Tools and Ecosystem are summarized."
   ]
  },
  {
   "cell_type": "markdown",
   "id": "5a06e272-a1bf-4ac8-a6d8-1c648fdf75b4",
   "metadata": {},
   "source": [
    "**Objectives:**\n",
    "\n",
    "- The languages used in data science are Python, R, Java, Javascript, Go-lang, etc.\n",
    "- No matter where code is kept, a distributed version control system (DVC's) records changes to the code. \n",
    "- Data scientists utilize GitHub notebooks to record experiments and projects.\n",
    "- An API enables two pieces of software to communicate with each other.\n",
    "- Pandas, Matplotlib and Numpy is are the first packages, data scientists ever import at the start."
   ]
  },
  {
   "cell_type": "markdown",
   "id": "d86c54c9-52a6-4063-8016-f1d72b75e06a",
   "metadata": {},
   "source": [
    "Some of the popular languages that Data Scientists use are:\n",
    "1. Python\n",
    "2. R (Language)\n",
    "3. Java\n",
    "4. Javascript\n",
    "5. Go-lang"
   ]
  },
  {
   "cell_type": "markdown",
   "id": "429165e2-6745-4cae-85f5-98c10c738eea",
   "metadata": {},
   "source": [
    "Some of the commonly used libraries used by Data Scientists include:\n",
    "\n",
    "1. Pandas\n",
    "2. Matplolib.pyplot\n",
    "3. Numpy\n",
    "4. Tensorflow\n",
    "5. Keras\n",
    "6. scikit-learn / sklearn"
   ]
  },
  {
   "cell_type": "markdown",
   "id": "a84f44e5-e322-42eb-bc78-68dc2dd9c9e5",
   "metadata": {},
   "source": [
    "| Data Science Tools |\n",
    "|--------------------|\n",
    "| RStudio            |\n",
    "| Apache Spark       |\n",
    "| TensorFlow         |\n",
    "| Apache Hadoop      |\n",
    "| RapidMiner         |"
   ]
  },
  {
   "cell_type": "markdown",
   "id": "a28f842c-39e6-41c2-9ce8-412248f71cd1",
   "metadata": {},
   "source": [
    "### Below are a few examples of evaluating arithmetic expressions in Python"
   ]
  },
  {
   "cell_type": "code",
   "execution_count": 2,
   "id": "a83498ce-d931-4e92-84d8-84abb3098e77",
   "metadata": {
    "tags": []
   },
   "outputs": [
    {
     "data": {
      "text/plain": [
       "17"
      ]
     },
     "execution_count": 2,
     "metadata": {},
     "output_type": "execute_result"
    }
   ],
   "source": [
    "# This a simple arithmetic expression to mutiply then add integers\n",
    "(3*4)+5"
   ]
  },
  {
   "cell_type": "code",
   "execution_count": 3,
   "id": "410479ea-4913-48cd-b6e9-f624d57677be",
   "metadata": {
    "tags": []
   },
   "outputs": [
    {
     "data": {
      "text/plain": [
       "3.3333333333333335"
      ]
     },
     "execution_count": 3,
     "metadata": {},
     "output_type": "execute_result"
    }
   ],
   "source": [
    "# This will convert 200 minutes to hours by diving by 60\n",
    "200/60"
   ]
  },
  {
   "cell_type": "markdown",
   "id": "11153b97-4392-44a8-83ab-a2a62280aed0",
   "metadata": {
    "tags": []
   },
   "source": [
    "## Author\n",
    "\n",
    "Rikin Zala"
   ]
  },
  {
   "cell_type": "code",
   "execution_count": null,
   "id": "41458c7b-78d4-4392-8453-b35884fbab53",
   "metadata": {},
   "outputs": [],
   "source": []
  }
 ],
 "metadata": {
  "kernelspec": {
   "display_name": "Python",
   "language": "python",
   "name": "conda-env-python-py"
  },
  "language_info": {
   "codemirror_mode": {
    "name": "ipython",
    "version": 3
   },
   "file_extension": ".py",
   "mimetype": "text/x-python",
   "name": "python",
   "nbconvert_exporter": "python",
   "pygments_lexer": "ipython3",
   "version": "3.7.12"
  }
 },
 "nbformat": 4,
 "nbformat_minor": 5
}
